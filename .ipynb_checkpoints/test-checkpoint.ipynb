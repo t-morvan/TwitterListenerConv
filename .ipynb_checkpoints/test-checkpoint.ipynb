{
 "cells": [
  {
   "cell_type": "code",
   "execution_count": 1,
   "id": "0d84729c",
   "metadata": {},
   "outputs": [],
   "source": [
    "import tweepy\n",
    "import pandas as pd\n",
    "\n",
    "\n",
    "\n",
    "max_number_tweets = 1000000\n",
    "\n",
    "\n",
    "#authentification\n",
    "oauth_dict={}\n",
    "with open('twitter_keys.txt','r') as f:\n",
    "    for line in f:\n",
    "        data=line.split()\n",
    "        oauth_dict[data[0]]=data[1]\n",
    "\n",
    "# v1 for streaming\n",
    "auth = tweepy.OAuthHandler(oauth_dict['API_KEY'], oauth_dict['API_SECRET'])\n",
    "auth.set_access_token(oauth_dict['TOKEN'], oauth_dict['TOKEN_SECRET'])\n",
    "api = tweepy.API(auth, wait_on_rate_limit=True)\n",
    "\n",
    "# v2for conversation\n",
    "api_v2 = tweepy.Client( consumer_key=oauth_dict['API_KEY'], consumer_secret=oauth_dict['API_SECRET'], access_token=oauth_dict['TOKEN'], access_token_secret=oauth_dict['TOKEN_SECRET'], wait_on_rate_limit=True)\n",
    "\n"
   ]
  },
  {
   "cell_type": "code",
   "execution_count": 3,
   "id": "65438d2a",
   "metadata": {},
   "outputs": [],
   "source": [
    "from datetime import datetime, timedelta,timezone\n",
    "def create_file_name(base,date):\n",
    "    '''Créer un nom de fichier en fonction de la date mais t'avais deviné'''\n",
    "\n",
    "    return \"collected/\"+base+\"/\"  +  str(date.hour) + '_' + str(date.day) + '_' + str(date.month) + '_' + str(date.year) + '.json'\n"
   ]
  },
  {
   "cell_type": "code",
   "execution_count": 8,
   "id": "90b49678",
   "metadata": {},
   "outputs": [],
   "source": [
    "date=datetime.now(timezone.utc)-timedelta(hours=2)\n",
    "delta=datetime.now(timezone.utc).hour-2\n",
    "if not delta<0:\n",
    "    name=create_file_name(\"tweets\",date)"
   ]
  },
  {
   "cell_type": "code",
   "execution_count": 9,
   "id": "e814fd7d",
   "metadata": {},
   "outputs": [
    {
     "data": {
      "text/plain": [
       "'collected/tweets/13_30_4_2021.json'"
      ]
     },
     "execution_count": 9,
     "metadata": {},
     "output_type": "execute_result"
    }
   ],
   "source": [
    "name"
   ]
  },
  {
   "cell_type": "code",
   "execution_count": 10,
   "id": "1482a2db",
   "metadata": {},
   "outputs": [],
   "source": [
    "def get_id_from_file(file):\n",
    "        with open(file,'r') as f:\n",
    "            statuses = json.load(f)\n",
    "        ids=[status['id'] for status in statuses]\n",
    "        return ids"
   ]
  },
  {
   "cell_type": "code",
   "execution_count": 58,
   "id": "f648bbad",
   "metadata": {},
   "outputs": [],
   "source": [
    "with open(name,r') as f:\n",
    "    statuses = json.load(f)"
   ]
  },
  {
   "cell_type": "code",
   "execution_count": 56,
   "id": "496d390b",
   "metadata": {},
   "outputs": [
    {
     "ename": "TypeError",
     "evalue": "string indices must be integers",
     "output_type": "error",
     "traceback": [
      "\u001b[0;31m---------------------------------------------------------------------------\u001b[0m",
      "\u001b[0;31mTypeError\u001b[0m                                 Traceback (most recent call last)",
      "\u001b[0;32m<ipython-input-56-85c7e824962c>\u001b[0m in \u001b[0;36m<module>\u001b[0;34m\u001b[0m\n\u001b[1;32m      1\u001b[0m \u001b[0;32mimport\u001b[0m \u001b[0mjson\u001b[0m\u001b[0;34m\u001b[0m\u001b[0;34m\u001b[0m\u001b[0m\n\u001b[0;32m----> 2\u001b[0;31m \u001b[0mtweets_id\u001b[0m\u001b[0;34m=\u001b[0m\u001b[0mget_id_from_file\u001b[0m\u001b[0;34m(\u001b[0m\u001b[0;34m'collected/tweets/16_29_4_2021.json'\u001b[0m\u001b[0;34m)\u001b[0m\u001b[0;34m\u001b[0m\u001b[0;34m\u001b[0m\u001b[0m\n\u001b[0m",
      "\u001b[0;32m<ipython-input-55-4f4e8e805af7>\u001b[0m in \u001b[0;36mget_id_from_file\u001b[0;34m(file)\u001b[0m\n\u001b[1;32m      2\u001b[0m         \u001b[0;32mwith\u001b[0m \u001b[0mopen\u001b[0m\u001b[0;34m(\u001b[0m\u001b[0mfile\u001b[0m\u001b[0;34m,\u001b[0m\u001b[0;34m'r'\u001b[0m\u001b[0;34m)\u001b[0m \u001b[0;32mas\u001b[0m \u001b[0mf\u001b[0m\u001b[0;34m:\u001b[0m\u001b[0;34m\u001b[0m\u001b[0;34m\u001b[0m\u001b[0m\n\u001b[1;32m      3\u001b[0m             \u001b[0mstatuses\u001b[0m \u001b[0;34m=\u001b[0m \u001b[0mjson\u001b[0m\u001b[0;34m.\u001b[0m\u001b[0mload\u001b[0m\u001b[0;34m(\u001b[0m\u001b[0mf\u001b[0m\u001b[0;34m)\u001b[0m\u001b[0;34m\u001b[0m\u001b[0;34m\u001b[0m\u001b[0m\n\u001b[0;32m----> 4\u001b[0;31m         \u001b[0mids\u001b[0m\u001b[0;34m=\u001b[0m\u001b[0;34m[\u001b[0m\u001b[0mstatus\u001b[0m\u001b[0;34m[\u001b[0m\u001b[0;34m'id'\u001b[0m\u001b[0;34m]\u001b[0m \u001b[0;32mfor\u001b[0m \u001b[0mstatus\u001b[0m \u001b[0;32min\u001b[0m \u001b[0mstatuses\u001b[0m\u001b[0;34m]\u001b[0m\u001b[0;34m\u001b[0m\u001b[0;34m\u001b[0m\u001b[0m\n\u001b[0m\u001b[1;32m      5\u001b[0m         \u001b[0;32mreturn\u001b[0m \u001b[0mids\u001b[0m\u001b[0;34m\u001b[0m\u001b[0;34m\u001b[0m\u001b[0m\n",
      "\u001b[0;32m<ipython-input-55-4f4e8e805af7>\u001b[0m in \u001b[0;36m<listcomp>\u001b[0;34m(.0)\u001b[0m\n\u001b[1;32m      2\u001b[0m         \u001b[0;32mwith\u001b[0m \u001b[0mopen\u001b[0m\u001b[0;34m(\u001b[0m\u001b[0mfile\u001b[0m\u001b[0;34m,\u001b[0m\u001b[0;34m'r'\u001b[0m\u001b[0;34m)\u001b[0m \u001b[0;32mas\u001b[0m \u001b[0mf\u001b[0m\u001b[0;34m:\u001b[0m\u001b[0;34m\u001b[0m\u001b[0;34m\u001b[0m\u001b[0m\n\u001b[1;32m      3\u001b[0m             \u001b[0mstatuses\u001b[0m \u001b[0;34m=\u001b[0m \u001b[0mjson\u001b[0m\u001b[0;34m.\u001b[0m\u001b[0mload\u001b[0m\u001b[0;34m(\u001b[0m\u001b[0mf\u001b[0m\u001b[0;34m)\u001b[0m\u001b[0;34m\u001b[0m\u001b[0;34m\u001b[0m\u001b[0m\n\u001b[0;32m----> 4\u001b[0;31m         \u001b[0mids\u001b[0m\u001b[0;34m=\u001b[0m\u001b[0;34m[\u001b[0m\u001b[0mstatus\u001b[0m\u001b[0;34m[\u001b[0m\u001b[0;34m'id'\u001b[0m\u001b[0;34m]\u001b[0m \u001b[0;32mfor\u001b[0m \u001b[0mstatus\u001b[0m \u001b[0;32min\u001b[0m \u001b[0mstatuses\u001b[0m\u001b[0;34m]\u001b[0m\u001b[0;34m\u001b[0m\u001b[0;34m\u001b[0m\u001b[0m\n\u001b[0m\u001b[1;32m      5\u001b[0m         \u001b[0;32mreturn\u001b[0m \u001b[0mids\u001b[0m\u001b[0;34m\u001b[0m\u001b[0;34m\u001b[0m\u001b[0m\n",
      "\u001b[0;31mTypeError\u001b[0m: string indices must be integers"
     ]
    }
   ],
   "source": [
    "all_replies=[]\n",
    "for tweet_id in tweets_id:                      \n",
    "    replies=get_replies(tweet_id)\n",
    "    all_replies.extend(replies) \n",
    "                    # save as json all the replies for this day\n",
    "with open(create_file_name(\"replies\",datetime.now(timezone.utc)-timedelta(hours=2)), 'w') as outfile:\n",
    "            json.dump(all_replies, outfile)"
   ]
  },
  {
   "cell_type": "code",
   "execution_count": 78,
   "id": "409a3e91",
   "metadata": {},
   "outputs": [
    {
     "data": {
      "text/plain": [
       "{'created_at': 'Thu Apr 29 16:18:42 +0000 2021',\n",
       " 'id': 1387803539062337538,\n",
       " 'id_str': '1387803539062337538',\n",
       " 'text': '@DukeEnergy, the North Carolina-based #energy company, plans to triple the amount of #renewable energy on its mix b… https://t.co/uB9mUabXPW',\n",
       " 'source': '<a href=\"https://mobile.twitter.com\" rel=\"nofollow\">Twitter Web App</a>',\n",
       " 'truncated': True,\n",
       " 'in_reply_to_status_id': None,\n",
       " 'in_reply_to_status_id_str': None,\n",
       " 'in_reply_to_user_id': 81192849,\n",
       " 'in_reply_to_user_id_str': '81192849',\n",
       " 'in_reply_to_screen_name': 'DukeEnergy',\n",
       " 'user': {'id': 1311077352194093056,\n",
       "  'id_str': '1311077352194093056',\n",
       "  'name': 'Energy Capital Media',\n",
       "  'screen_name': 'EnergyCapitalM',\n",
       "  'location': 'Houston, TX',\n",
       "  'url': 'http://www.energycapitalmedia.com',\n",
       "  'description': 'The magazine for infrastructure developers, investors and industrial users.',\n",
       "  'translator_type': 'none',\n",
       "  'protected': False,\n",
       "  'verified': False,\n",
       "  'followers_count': 80,\n",
       "  'friends_count': 278,\n",
       "  'listed_count': 2,\n",
       "  'favourites_count': 104,\n",
       "  'statuses_count': 1022,\n",
       "  'created_at': 'Tue Sep 29 22:57:14 +0000 2020',\n",
       "  'utc_offset': None,\n",
       "  'time_zone': None,\n",
       "  'geo_enabled': False,\n",
       "  'lang': None,\n",
       "  'contributors_enabled': False,\n",
       "  'is_translator': False,\n",
       "  'profile_background_color': 'F5F8FA',\n",
       "  'profile_background_image_url': '',\n",
       "  'profile_background_image_url_https': '',\n",
       "  'profile_background_tile': False,\n",
       "  'profile_link_color': '1DA1F2',\n",
       "  'profile_sidebar_border_color': 'C0DEED',\n",
       "  'profile_sidebar_fill_color': 'DDEEF6',\n",
       "  'profile_text_color': '333333',\n",
       "  'profile_use_background_image': True,\n",
       "  'profile_image_url': 'http://pbs.twimg.com/profile_images/1317117700146106378/jUM26s9t_normal.jpg',\n",
       "  'profile_image_url_https': 'https://pbs.twimg.com/profile_images/1317117700146106378/jUM26s9t_normal.jpg',\n",
       "  'profile_banner_url': 'https://pbs.twimg.com/profile_banners/1311077352194093056/1602860677',\n",
       "  'default_profile': True,\n",
       "  'default_profile_image': False,\n",
       "  'following': None,\n",
       "  'follow_request_sent': None,\n",
       "  'notifications': None,\n",
       "  'withheld_in_countries': []},\n",
       " 'geo': None,\n",
       " 'coordinates': None,\n",
       " 'place': None,\n",
       " 'contributors': None,\n",
       " 'is_quote_status': False,\n",
       " 'extended_tweet': {'full_text': '@DukeEnergy, the North Carolina-based #energy company, plans to triple the amount of #renewable energy on its mix by the end of this decade; according to what the company posted on its 15th #Sustainability Report.\\n#energynews \\nRead:\\nhttps://t.co/t7VvgKxWh5',\n",
       "  'display_text_range': [0, 256],\n",
       "  'entities': {'hashtags': [{'text': 'energy', 'indices': [38, 45]},\n",
       "    {'text': 'renewable', 'indices': [85, 95]},\n",
       "    {'text': 'Sustainability', 'indices': [190, 205]},\n",
       "    {'text': 'energynews', 'indices': [214, 225]}],\n",
       "   'urls': [{'url': 'https://t.co/t7VvgKxWh5',\n",
       "     'expanded_url': 'https://energycapitalmedia.com/2021/04/29/duke-energy-renewable-decade/',\n",
       "     'display_url': 'energycapitalmedia.com/2021/04/29/duk…',\n",
       "     'indices': [233, 256]}],\n",
       "   'user_mentions': [{'screen_name': 'DukeEnergy',\n",
       "     'name': 'Duke Energy',\n",
       "     'id': 81192849,\n",
       "     'id_str': '81192849',\n",
       "     'indices': [0, 11]}],\n",
       "   'symbols': []}},\n",
       " 'quote_count': 0,\n",
       " 'reply_count': 0,\n",
       " 'retweet_count': 0,\n",
       " 'favorite_count': 0,\n",
       " 'entities': {'hashtags': [{'text': 'energy', 'indices': [38, 45]},\n",
       "   {'text': 'renewable', 'indices': [85, 95]}],\n",
       "  'urls': [{'url': 'https://t.co/uB9mUabXPW',\n",
       "    'expanded_url': 'https://twitter.com/i/web/status/1387803539062337538',\n",
       "    'display_url': 'twitter.com/i/web/status/1…',\n",
       "    'indices': [117, 140]}],\n",
       "  'user_mentions': [{'screen_name': 'DukeEnergy',\n",
       "    'name': 'Duke Energy',\n",
       "    'id': 81192849,\n",
       "    'id_str': '81192849',\n",
       "    'indices': [0, 11]}],\n",
       "  'symbols': []},\n",
       " 'favorited': False,\n",
       " 'retweeted': False,\n",
       " 'possibly_sensitive': False,\n",
       " 'filter_level': 'low',\n",
       " 'lang': 'en',\n",
       " 'timestamp_ms': '1619713122512'}"
      ]
     },
     "execution_count": 78,
     "metadata": {},
     "output_type": "execute_result"
    }
   ],
   "source": [
    "tweets_id[0]"
   ]
  },
  {
   "cell_type": "code",
   "execution_count": 9,
   "id": "07e8489c",
   "metadata": {},
   "outputs": [],
   "source": [
    "def get_replies(tweet_id):\n",
    "        replies=tweepy.Paginator(api_v2.search_recent_tweets,max_results=100,\n",
    "        user_auth=True,query=\"conversation_id:{}\".format(tweet_id),tweet_fields=[\"in_reply_to_user_id\",\"author_id\",\"created_at\",\"conversation_id\"]).flatten()\n",
    "        return replies"
   ]
  },
  {
   "cell_type": "code",
   "execution_count": 22,
   "id": "d9243ee0",
   "metadata": {},
   "outputs": [],
   "source": [
    "s=get_replies(1387894495489019908)"
   ]
  },
  {
   "cell_type": "code",
   "execution_count": 21,
   "id": "bd0b5afb",
   "metadata": {},
   "outputs": [
    {
     "data": {
      "text/plain": [
       "6"
      ]
     },
     "execution_count": 21,
     "metadata": {},
     "output_type": "execute_result"
    }
   ],
   "source": [
    "len([t.id for t in s])"
   ]
  },
  {
   "cell_type": "code",
   "execution_count": 23,
   "id": "d4aef7f4",
   "metadata": {},
   "outputs": [
    {
     "name": "stdout",
     "output_type": "stream",
     "text": [
      "@nytimes What's Ted Cruz doing there\n"
     ]
    }
   ],
   "source": [
    "i=0\n",
    "for j in s:\n",
    "    i=j\n",
    "print(i)"
   ]
  },
  {
   "cell_type": "code",
   "execution_count": 25,
   "id": "cd48e39a",
   "metadata": {},
   "outputs": [
    {
     "data": {
      "text/plain": [
       "{'created_at': '2021-04-29T22:21:40.000Z',\n",
       " 'author_id': '792434188288921600',\n",
       " 'conversation_id': '1387894495489019908',\n",
       " 'text': \"@nytimes What's Ted Cruz doing there\",\n",
       " 'id': '1387894882518372352',\n",
       " 'in_reply_to_user_id': '807095'}"
      ]
     },
     "execution_count": 25,
     "metadata": {},
     "output_type": "execute_result"
    }
   ],
   "source": [
    "j.data"
   ]
  },
  {
   "cell_type": "code",
   "execution_count": 76,
   "id": "0c6efec9",
   "metadata": {},
   "outputs": [],
   "source": [
    "for tweet in s:\n",
    "    print(s.id)"
   ]
  },
  {
   "cell_type": "code",
   "execution_count": 40,
   "id": "3f4c3445",
   "metadata": {},
   "outputs": [
    {
     "data": {
      "text/plain": [
       "[<generator object get_id_from_file.<locals>.<genexpr> at 0x7f072f6db890>]"
      ]
     },
     "execution_count": 40,
     "metadata": {},
     "output_type": "execute_result"
    }
   ],
   "source": [
    "tweets_id"
   ]
  },
  {
   "cell_type": "code",
   "execution_count": null,
   "id": "ab19363e",
   "metadata": {},
   "outputs": [],
   "source": []
  }
 ],
 "metadata": {
  "kernelspec": {
   "display_name": "Python 3",
   "language": "python",
   "name": "python3"
  },
  "language_info": {
   "codemirror_mode": {
    "name": "ipython",
    "version": 3
   },
   "file_extension": ".py",
   "mimetype": "text/x-python",
   "name": "python",
   "nbconvert_exporter": "python",
   "pygments_lexer": "ipython3",
   "version": "3.8.8"
  }
 },
 "nbformat": 4,
 "nbformat_minor": 5
}
